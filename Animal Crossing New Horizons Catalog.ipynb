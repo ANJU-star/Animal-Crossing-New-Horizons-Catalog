{
 "cells": [
  {
   "cell_type": "code",
   "execution_count": 1,
   "metadata": {},
   "outputs": [],
   "source": [
    "import pandas as pd"
   ]
  },
  {
   "cell_type": "code",
   "execution_count": 2,
   "metadata": {},
   "outputs": [],
   "source": [
    "df = pd.read_csv(\"accessories.csv\")"
   ]
  },
  {
   "cell_type": "code",
   "execution_count": 3,
   "metadata": {},
   "outputs": [
    {
     "data": {
      "text/html": [
       "<div>\n",
       "<style scoped>\n",
       "    .dataframe tbody tr th:only-of-type {\n",
       "        vertical-align: middle;\n",
       "    }\n",
       "\n",
       "    .dataframe tbody tr th {\n",
       "        vertical-align: top;\n",
       "    }\n",
       "\n",
       "    .dataframe thead th {\n",
       "        text-align: right;\n",
       "    }\n",
       "</style>\n",
       "<table border=\"1\" class=\"dataframe\">\n",
       "  <thead>\n",
       "    <tr style=\"text-align: right;\">\n",
       "      <th></th>\n",
       "      <th>Name</th>\n",
       "      <th>Variation</th>\n",
       "      <th>DIY</th>\n",
       "      <th>Buy</th>\n",
       "      <th>Sell</th>\n",
       "      <th>Color 1</th>\n",
       "      <th>Color 2</th>\n",
       "      <th>Size</th>\n",
       "      <th>Miles Price</th>\n",
       "      <th>Source</th>\n",
       "      <th>...</th>\n",
       "      <th>Mannequin Piece</th>\n",
       "      <th>Version</th>\n",
       "      <th>Style</th>\n",
       "      <th>Label Themes</th>\n",
       "      <th>Type</th>\n",
       "      <th>Villager Equippable</th>\n",
       "      <th>Catalog</th>\n",
       "      <th>Filename</th>\n",
       "      <th>Internal ID</th>\n",
       "      <th>Unique Entry ID</th>\n",
       "    </tr>\n",
       "  </thead>\n",
       "  <tbody>\n",
       "    <tr>\n",
       "      <th>0</th>\n",
       "      <td>3D glasses</td>\n",
       "      <td>White</td>\n",
       "      <td>No</td>\n",
       "      <td>490</td>\n",
       "      <td>122</td>\n",
       "      <td>White</td>\n",
       "      <td>Colorful</td>\n",
       "      <td>1x1</td>\n",
       "      <td>NaN</td>\n",
       "      <td>Able Sisters</td>\n",
       "      <td>...</td>\n",
       "      <td>No</td>\n",
       "      <td>1.0.0</td>\n",
       "      <td>Active</td>\n",
       "      <td>party</td>\n",
       "      <td>AccessoryEye</td>\n",
       "      <td>Yes</td>\n",
       "      <td>For sale</td>\n",
       "      <td>AccessoryGlassThreed0</td>\n",
       "      <td>4463</td>\n",
       "      <td>FNxEraBTeWRiCvtFu</td>\n",
       "    </tr>\n",
       "    <tr>\n",
       "      <th>1</th>\n",
       "      <td>3D glasses</td>\n",
       "      <td>Black</td>\n",
       "      <td>No</td>\n",
       "      <td>490</td>\n",
       "      <td>122</td>\n",
       "      <td>Black</td>\n",
       "      <td>Colorful</td>\n",
       "      <td>1x1</td>\n",
       "      <td>NaN</td>\n",
       "      <td>Able Sisters</td>\n",
       "      <td>...</td>\n",
       "      <td>No</td>\n",
       "      <td>1.0.0</td>\n",
       "      <td>Active</td>\n",
       "      <td>party</td>\n",
       "      <td>AccessoryEye</td>\n",
       "      <td>Yes</td>\n",
       "      <td>For sale</td>\n",
       "      <td>AccessoryGlassThreed1</td>\n",
       "      <td>11020</td>\n",
       "      <td>mM9SXPCcGPfPJAmtm</td>\n",
       "    </tr>\n",
       "    <tr>\n",
       "      <th>2</th>\n",
       "      <td>bandage</td>\n",
       "      <td>Beige</td>\n",
       "      <td>No</td>\n",
       "      <td>140</td>\n",
       "      <td>35</td>\n",
       "      <td>Beige</td>\n",
       "      <td>White</td>\n",
       "      <td>1x1</td>\n",
       "      <td>NaN</td>\n",
       "      <td>Able Sisters</td>\n",
       "      <td>...</td>\n",
       "      <td>Yes</td>\n",
       "      <td>1.0.0</td>\n",
       "      <td>Active</td>\n",
       "      <td>outdoorsy; comfy; sporty</td>\n",
       "      <td>AccessoryMouth</td>\n",
       "      <td>No</td>\n",
       "      <td>For sale</td>\n",
       "      <td>AccessoryMouthBandageSkin</td>\n",
       "      <td>4677</td>\n",
       "      <td>2qFT5iPkk8bREvpkj</td>\n",
       "    </tr>\n",
       "    <tr>\n",
       "      <th>3</th>\n",
       "      <td>beak</td>\n",
       "      <td>Yellow</td>\n",
       "      <td>No</td>\n",
       "      <td>490</td>\n",
       "      <td>122</td>\n",
       "      <td>Yellow</td>\n",
       "      <td>Yellow</td>\n",
       "      <td>1x1</td>\n",
       "      <td>NaN</td>\n",
       "      <td>Able Sisters</td>\n",
       "      <td>...</td>\n",
       "      <td>Yes</td>\n",
       "      <td>1.0.0</td>\n",
       "      <td>Cute</td>\n",
       "      <td>fairy tale; party; theatrical</td>\n",
       "      <td>AccessoryMouthInvisibleNose</td>\n",
       "      <td>No</td>\n",
       "      <td>For sale</td>\n",
       "      <td>AccessoryMouthBeakYellow</td>\n",
       "      <td>3549</td>\n",
       "      <td>T5CpsJi4xBSachNL5</td>\n",
       "    </tr>\n",
       "    <tr>\n",
       "      <th>4</th>\n",
       "      <td>birthday shades</td>\n",
       "      <td>Yellow</td>\n",
       "      <td>No</td>\n",
       "      <td>NFS</td>\n",
       "      <td>620</td>\n",
       "      <td>Yellow</td>\n",
       "      <td>Red</td>\n",
       "      <td>1x1</td>\n",
       "      <td>NaN</td>\n",
       "      <td>Birthday</td>\n",
       "      <td>...</td>\n",
       "      <td>No</td>\n",
       "      <td>1.0.0</td>\n",
       "      <td>Gorgeous</td>\n",
       "      <td>party</td>\n",
       "      <td>AccessoryEye</td>\n",
       "      <td>Yes</td>\n",
       "      <td>Not for sale</td>\n",
       "      <td>AccessoryGlassBirthday0</td>\n",
       "      <td>4510</td>\n",
       "      <td>S6CiB9ZvzBTMhEnDz</td>\n",
       "    </tr>\n",
       "  </tbody>\n",
       "</table>\n",
       "<p>5 rows × 22 columns</p>\n",
       "</div>"
      ],
      "text/plain": [
       "              Name Variation DIY  Buy  Sell Color 1   Color 2 Size  \\\n",
       "0       3D glasses     White  No  490   122   White  Colorful  1x1   \n",
       "1       3D glasses     Black  No  490   122   Black  Colorful  1x1   \n",
       "2          bandage     Beige  No  140    35   Beige     White  1x1   \n",
       "3             beak    Yellow  No  490   122  Yellow    Yellow  1x1   \n",
       "4  birthday shades    Yellow  No  NFS   620  Yellow       Red  1x1   \n",
       "\n",
       "   Miles Price        Source  ... Mannequin Piece Version     Style  \\\n",
       "0          NaN  Able Sisters  ...              No   1.0.0    Active   \n",
       "1          NaN  Able Sisters  ...              No   1.0.0    Active   \n",
       "2          NaN  Able Sisters  ...             Yes   1.0.0    Active   \n",
       "3          NaN  Able Sisters  ...             Yes   1.0.0      Cute   \n",
       "4          NaN      Birthday  ...              No   1.0.0  Gorgeous   \n",
       "\n",
       "                    Label Themes                         Type  \\\n",
       "0                          party                 AccessoryEye   \n",
       "1                          party                 AccessoryEye   \n",
       "2       outdoorsy; comfy; sporty               AccessoryMouth   \n",
       "3  fairy tale; party; theatrical  AccessoryMouthInvisibleNose   \n",
       "4                          party                 AccessoryEye   \n",
       "\n",
       "  Villager Equippable       Catalog                   Filename Internal ID  \\\n",
       "0                 Yes      For sale      AccessoryGlassThreed0        4463   \n",
       "1                 Yes      For sale      AccessoryGlassThreed1       11020   \n",
       "2                  No      For sale  AccessoryMouthBandageSkin        4677   \n",
       "3                  No      For sale   AccessoryMouthBeakYellow        3549   \n",
       "4                 Yes  Not for sale    AccessoryGlassBirthday0        4510   \n",
       "\n",
       "     Unique Entry ID  \n",
       "0  FNxEraBTeWRiCvtFu  \n",
       "1  mM9SXPCcGPfPJAmtm  \n",
       "2  2qFT5iPkk8bREvpkj  \n",
       "3  T5CpsJi4xBSachNL5  \n",
       "4  S6CiB9ZvzBTMhEnDz  \n",
       "\n",
       "[5 rows x 22 columns]"
      ]
     },
     "execution_count": 3,
     "metadata": {},
     "output_type": "execute_result"
    }
   ],
   "source": [
    "df.head()"
   ]
  },
  {
   "cell_type": "code",
   "execution_count": 4,
   "metadata": {},
   "outputs": [
    {
     "data": {
      "text/plain": [
       "(222, 22)"
      ]
     },
     "execution_count": 4,
     "metadata": {},
     "output_type": "execute_result"
    }
   ],
   "source": [
    "df.shape"
   ]
  },
  {
   "cell_type": "code",
   "execution_count": 5,
   "metadata": {},
   "outputs": [
    {
     "data": {
      "text/plain": [
       "Index(['Name', 'Variation', 'DIY', 'Buy', 'Sell', 'Color 1', 'Color 2', 'Size',\n",
       "       'Miles Price', 'Source', 'Source Notes', 'Seasonal Availability',\n",
       "       'Mannequin Piece', 'Version', 'Style', 'Label Themes', 'Type',\n",
       "       'Villager Equippable', 'Catalog', 'Filename', 'Internal ID',\n",
       "       'Unique Entry ID'],\n",
       "      dtype='object')"
      ]
     },
     "execution_count": 5,
     "metadata": {},
     "output_type": "execute_result"
    }
   ],
   "source": [
    "df.columns"
   ]
  },
  {
   "cell_type": "code",
   "execution_count": 6,
   "metadata": {},
   "outputs": [
    {
     "data": {
      "text/plain": [
       "Miles Price              221\n",
       "Source Notes              16\n",
       "Internal ID                0\n",
       "Variation                  0\n",
       "DIY                        0\n",
       "Buy                        0\n",
       "Sell                       0\n",
       "Color 1                    0\n",
       "Color 2                    0\n",
       "Size                       0\n",
       "Source                     0\n",
       "Unique Entry ID            0\n",
       "Seasonal Availability      0\n",
       "Mannequin Piece            0\n",
       "Version                    0\n",
       "Style                      0\n",
       "Label Themes               0\n",
       "Type                       0\n",
       "Villager Equippable        0\n",
       "Catalog                    0\n",
       "Filename                   0\n",
       "Name                       0\n",
       "dtype: int64"
      ]
     },
     "execution_count": 6,
     "metadata": {},
     "output_type": "execute_result"
    }
   ],
   "source": [
    "df.isnull().sum().sort_values(ascending = False)"
   ]
  },
  {
   "cell_type": "code",
   "execution_count": 7,
   "metadata": {},
   "outputs": [],
   "source": [
    "df = df.drop(columns = \"Miles Price\",axis = 1)\n",
    "#df.drop(columns='Founder')"
   ]
  },
  {
   "cell_type": "code",
   "execution_count": 8,
   "metadata": {},
   "outputs": [
    {
     "data": {
      "text/html": [
       "<div>\n",
       "<style scoped>\n",
       "    .dataframe tbody tr th:only-of-type {\n",
       "        vertical-align: middle;\n",
       "    }\n",
       "\n",
       "    .dataframe tbody tr th {\n",
       "        vertical-align: top;\n",
       "    }\n",
       "\n",
       "    .dataframe thead th {\n",
       "        text-align: right;\n",
       "    }\n",
       "</style>\n",
       "<table border=\"1\" class=\"dataframe\">\n",
       "  <thead>\n",
       "    <tr style=\"text-align: right;\">\n",
       "      <th></th>\n",
       "      <th>Name</th>\n",
       "      <th>Variation</th>\n",
       "      <th>DIY</th>\n",
       "      <th>Buy</th>\n",
       "      <th>Sell</th>\n",
       "      <th>Color 1</th>\n",
       "      <th>Color 2</th>\n",
       "      <th>Size</th>\n",
       "      <th>Source</th>\n",
       "      <th>Source Notes</th>\n",
       "      <th>...</th>\n",
       "      <th>Mannequin Piece</th>\n",
       "      <th>Version</th>\n",
       "      <th>Style</th>\n",
       "      <th>Label Themes</th>\n",
       "      <th>Type</th>\n",
       "      <th>Villager Equippable</th>\n",
       "      <th>Catalog</th>\n",
       "      <th>Filename</th>\n",
       "      <th>Internal ID</th>\n",
       "      <th>Unique Entry ID</th>\n",
       "    </tr>\n",
       "  </thead>\n",
       "  <tbody>\n",
       "    <tr>\n",
       "      <th>0</th>\n",
       "      <td>3D glasses</td>\n",
       "      <td>White</td>\n",
       "      <td>No</td>\n",
       "      <td>490</td>\n",
       "      <td>122</td>\n",
       "      <td>White</td>\n",
       "      <td>Colorful</td>\n",
       "      <td>1x1</td>\n",
       "      <td>Able Sisters</td>\n",
       "      <td>Available from Able Sisters shop only</td>\n",
       "      <td>...</td>\n",
       "      <td>No</td>\n",
       "      <td>1.0.0</td>\n",
       "      <td>Active</td>\n",
       "      <td>party</td>\n",
       "      <td>AccessoryEye</td>\n",
       "      <td>Yes</td>\n",
       "      <td>For sale</td>\n",
       "      <td>AccessoryGlassThreed0</td>\n",
       "      <td>4463</td>\n",
       "      <td>FNxEraBTeWRiCvtFu</td>\n",
       "    </tr>\n",
       "    <tr>\n",
       "      <th>1</th>\n",
       "      <td>3D glasses</td>\n",
       "      <td>Black</td>\n",
       "      <td>No</td>\n",
       "      <td>490</td>\n",
       "      <td>122</td>\n",
       "      <td>Black</td>\n",
       "      <td>Colorful</td>\n",
       "      <td>1x1</td>\n",
       "      <td>Able Sisters</td>\n",
       "      <td>Available from Able Sisters shop only</td>\n",
       "      <td>...</td>\n",
       "      <td>No</td>\n",
       "      <td>1.0.0</td>\n",
       "      <td>Active</td>\n",
       "      <td>party</td>\n",
       "      <td>AccessoryEye</td>\n",
       "      <td>Yes</td>\n",
       "      <td>For sale</td>\n",
       "      <td>AccessoryGlassThreed1</td>\n",
       "      <td>11020</td>\n",
       "      <td>mM9SXPCcGPfPJAmtm</td>\n",
       "    </tr>\n",
       "    <tr>\n",
       "      <th>2</th>\n",
       "      <td>bandage</td>\n",
       "      <td>Beige</td>\n",
       "      <td>No</td>\n",
       "      <td>140</td>\n",
       "      <td>35</td>\n",
       "      <td>Beige</td>\n",
       "      <td>White</td>\n",
       "      <td>1x1</td>\n",
       "      <td>Able Sisters</td>\n",
       "      <td>Available from either Mable's temporary shop o...</td>\n",
       "      <td>...</td>\n",
       "      <td>Yes</td>\n",
       "      <td>1.0.0</td>\n",
       "      <td>Active</td>\n",
       "      <td>outdoorsy; comfy; sporty</td>\n",
       "      <td>AccessoryMouth</td>\n",
       "      <td>No</td>\n",
       "      <td>For sale</td>\n",
       "      <td>AccessoryMouthBandageSkin</td>\n",
       "      <td>4677</td>\n",
       "      <td>2qFT5iPkk8bREvpkj</td>\n",
       "    </tr>\n",
       "    <tr>\n",
       "      <th>3</th>\n",
       "      <td>beak</td>\n",
       "      <td>Yellow</td>\n",
       "      <td>No</td>\n",
       "      <td>490</td>\n",
       "      <td>122</td>\n",
       "      <td>Yellow</td>\n",
       "      <td>Yellow</td>\n",
       "      <td>1x1</td>\n",
       "      <td>Able Sisters</td>\n",
       "      <td>Available from either Mable's temporary shop o...</td>\n",
       "      <td>...</td>\n",
       "      <td>Yes</td>\n",
       "      <td>1.0.0</td>\n",
       "      <td>Cute</td>\n",
       "      <td>fairy tale; party; theatrical</td>\n",
       "      <td>AccessoryMouthInvisibleNose</td>\n",
       "      <td>No</td>\n",
       "      <td>For sale</td>\n",
       "      <td>AccessoryMouthBeakYellow</td>\n",
       "      <td>3549</td>\n",
       "      <td>T5CpsJi4xBSachNL5</td>\n",
       "    </tr>\n",
       "    <tr>\n",
       "      <th>4</th>\n",
       "      <td>birthday shades</td>\n",
       "      <td>Yellow</td>\n",
       "      <td>No</td>\n",
       "      <td>NFS</td>\n",
       "      <td>620</td>\n",
       "      <td>Yellow</td>\n",
       "      <td>Red</td>\n",
       "      <td>1x1</td>\n",
       "      <td>Birthday</td>\n",
       "      <td>NaN</td>\n",
       "      <td>...</td>\n",
       "      <td>No</td>\n",
       "      <td>1.0.0</td>\n",
       "      <td>Gorgeous</td>\n",
       "      <td>party</td>\n",
       "      <td>AccessoryEye</td>\n",
       "      <td>Yes</td>\n",
       "      <td>Not for sale</td>\n",
       "      <td>AccessoryGlassBirthday0</td>\n",
       "      <td>4510</td>\n",
       "      <td>S6CiB9ZvzBTMhEnDz</td>\n",
       "    </tr>\n",
       "  </tbody>\n",
       "</table>\n",
       "<p>5 rows × 21 columns</p>\n",
       "</div>"
      ],
      "text/plain": [
       "              Name Variation DIY  Buy  Sell Color 1   Color 2 Size  \\\n",
       "0       3D glasses     White  No  490   122   White  Colorful  1x1   \n",
       "1       3D glasses     Black  No  490   122   Black  Colorful  1x1   \n",
       "2          bandage     Beige  No  140    35   Beige     White  1x1   \n",
       "3             beak    Yellow  No  490   122  Yellow    Yellow  1x1   \n",
       "4  birthday shades    Yellow  No  NFS   620  Yellow       Red  1x1   \n",
       "\n",
       "         Source                                       Source Notes  ...  \\\n",
       "0  Able Sisters              Available from Able Sisters shop only  ...   \n",
       "1  Able Sisters              Available from Able Sisters shop only  ...   \n",
       "2  Able Sisters  Available from either Mable's temporary shop o...  ...   \n",
       "3  Able Sisters  Available from either Mable's temporary shop o...  ...   \n",
       "4      Birthday                                                NaN  ...   \n",
       "\n",
       "  Mannequin Piece Version     Style                   Label Themes  \\\n",
       "0              No   1.0.0    Active                          party   \n",
       "1              No   1.0.0    Active                          party   \n",
       "2             Yes   1.0.0    Active       outdoorsy; comfy; sporty   \n",
       "3             Yes   1.0.0      Cute  fairy tale; party; theatrical   \n",
       "4              No   1.0.0  Gorgeous                          party   \n",
       "\n",
       "                          Type Villager Equippable       Catalog  \\\n",
       "0                 AccessoryEye                 Yes      For sale   \n",
       "1                 AccessoryEye                 Yes      For sale   \n",
       "2               AccessoryMouth                  No      For sale   \n",
       "3  AccessoryMouthInvisibleNose                  No      For sale   \n",
       "4                 AccessoryEye                 Yes  Not for sale   \n",
       "\n",
       "                    Filename Internal ID    Unique Entry ID  \n",
       "0      AccessoryGlassThreed0        4463  FNxEraBTeWRiCvtFu  \n",
       "1      AccessoryGlassThreed1       11020  mM9SXPCcGPfPJAmtm  \n",
       "2  AccessoryMouthBandageSkin        4677  2qFT5iPkk8bREvpkj  \n",
       "3   AccessoryMouthBeakYellow        3549  T5CpsJi4xBSachNL5  \n",
       "4    AccessoryGlassBirthday0        4510  S6CiB9ZvzBTMhEnDz  \n",
       "\n",
       "[5 rows x 21 columns]"
      ]
     },
     "execution_count": 8,
     "metadata": {},
     "output_type": "execute_result"
    }
   ],
   "source": [
    "df.head()"
   ]
  },
  {
   "cell_type": "code",
   "execution_count": 9,
   "metadata": {},
   "outputs": [],
   "source": [
    "df = df.dropna()"
   ]
  },
  {
   "cell_type": "code",
   "execution_count": 10,
   "metadata": {},
   "outputs": [
    {
     "data": {
      "text/plain": [
       "Name                     0\n",
       "Variation                0\n",
       "DIY                      0\n",
       "Buy                      0\n",
       "Sell                     0\n",
       "Color 1                  0\n",
       "Color 2                  0\n",
       "Size                     0\n",
       "Source                   0\n",
       "Source Notes             0\n",
       "Seasonal Availability    0\n",
       "Mannequin Piece          0\n",
       "Version                  0\n",
       "Style                    0\n",
       "Label Themes             0\n",
       "Type                     0\n",
       "Villager Equippable      0\n",
       "Catalog                  0\n",
       "Filename                 0\n",
       "Internal ID              0\n",
       "Unique Entry ID          0\n",
       "dtype: int64"
      ]
     },
     "execution_count": 10,
     "metadata": {},
     "output_type": "execute_result"
    }
   ],
   "source": [
    "df.isnull().sum()"
   ]
  },
  {
   "cell_type": "code",
   "execution_count": 11,
   "metadata": {},
   "outputs": [
    {
     "data": {
      "text/plain": [
       "(206, 21)"
      ]
     },
     "execution_count": 11,
     "metadata": {},
     "output_type": "execute_result"
    }
   ],
   "source": [
    "df.shape"
   ]
  },
  {
   "cell_type": "code",
   "execution_count": 12,
   "metadata": {},
   "outputs": [
    {
     "data": {
      "text/plain": [
       "Name                     object\n",
       "Variation                object\n",
       "DIY                      object\n",
       "Buy                      object\n",
       "Sell                      int64\n",
       "Color 1                  object\n",
       "Color 2                  object\n",
       "Size                     object\n",
       "Source                   object\n",
       "Source Notes             object\n",
       "Seasonal Availability    object\n",
       "Mannequin Piece          object\n",
       "Version                  object\n",
       "Style                    object\n",
       "Label Themes             object\n",
       "Type                     object\n",
       "Villager Equippable      object\n",
       "Catalog                  object\n",
       "Filename                 object\n",
       "Internal ID               int64\n",
       "Unique Entry ID          object\n",
       "dtype: object"
      ]
     },
     "execution_count": 12,
     "metadata": {},
     "output_type": "execute_result"
    }
   ],
   "source": [
    "df.dtypes"
   ]
  },
  {
   "cell_type": "code",
   "execution_count": 13,
   "metadata": {},
   "outputs": [
    {
     "data": {
      "text/plain": [
       "array(['3D glasses', 'bandage', 'beak', 'bottom-rimmed glasses',\n",
       "       'browline glasses', 'bubblegum', 'bunny nose', 'butterfly shades',\n",
       "       'cat nose', 'cucumber pack', 'curly mustache', 'cyber shades',\n",
       "       'DAL eye mask', 'DAL sunglasses', \"doctor's mask\", 'dog nose',\n",
       "       'double-bridge glasses', 'drinking-straw glasses', 'eye mask',\n",
       "       'eye patch', 'facial mask', 'fake nose', 'flower sunglasses',\n",
       "       'food mess', 'funny glasses', 'gas mask', 'glass-bottle glasses',\n",
       "       'goatee', 'goggles', 'handlebar mustache', 'heart shades', 'HMD',\n",
       "       \"jester's mask\", 'ladder shades', 'masquerade mask', 'monocle',\n",
       "       'night-vision goggles', 'nose drip', 'octagonal glasses',\n",
       "       'oval glasses', 'pacifier', 'pig nose', 'pilot shades',\n",
       "       'pixel shades', 'pleather mask', 'post-op patch', 'privacy mask',\n",
       "       'reflector', 'retro shades', 'rhinestone shades', 'rimmed glasses',\n",
       "       'round shades', 'round tinted shades', 'rounded beard',\n",
       "       'ski goggles', 'sporty shades', 'square glasses',\n",
       "       'stache & glasses', 'star shades', 'steampunk glasses',\n",
       "       'sticky rice', 'superhero mask', 'tiny shades', 'tortoise specs',\n",
       "       'triangle shades', 'wooden-frame glasses'], dtype=object)"
      ]
     },
     "execution_count": 13,
     "metadata": {},
     "output_type": "execute_result"
    }
   ],
   "source": [
    "df['Name'].unique()"
   ]
  },
  {
   "cell_type": "code",
   "execution_count": 14,
   "metadata": {},
   "outputs": [
    {
     "data": {
      "text/plain": [
       "array(['White', 'Black', 'Beige', 'Yellow', 'Red', 'Purple', 'Green',\n",
       "       'Blue', 'Pink', 'Brown', 'Gray', 'Navy blue', 'Silver', 'Gold',\n",
       "       'Orange', 'Pasta', 'Avocado', 'Light blue', 'Magenta', 'Mustard',\n",
       "       'Baby purple', 'Baby mint', 'Baby yellow', 'Baby green',\n",
       "       'Baby pink', 'Baby gray', 'Baby blue', 'Baby orange', 'Ochre',\n",
       "       'Light brown', 'Dark brown', 'Lime', 'Berry red'], dtype=object)"
      ]
     },
     "execution_count": 14,
     "metadata": {},
     "output_type": "execute_result"
    }
   ],
   "source": [
    "df['Variation'].unique()"
   ]
  },
  {
   "cell_type": "code",
   "execution_count": 15,
   "metadata": {},
   "outputs": [
    {
     "data": {
      "text/plain": [
       "array(['No'], dtype=object)"
      ]
     },
     "execution_count": 15,
     "metadata": {},
     "output_type": "execute_result"
    }
   ],
   "source": [
    "df['DIY'].unique()"
   ]
  },
  {
   "cell_type": "code",
   "execution_count": 16,
   "metadata": {},
   "outputs": [
    {
     "data": {
      "text/plain": [
       "array(['White', 'Black', 'Beige', 'Yellow', 'Red', 'Purple', 'Green',\n",
       "       'Blue', 'Pink', 'Brown', 'Gray', 'Light blue', 'Colorful',\n",
       "       'Orange'], dtype=object)"
      ]
     },
     "execution_count": 16,
     "metadata": {},
     "output_type": "execute_result"
    }
   ],
   "source": [
    "df['Color 1'].unique()"
   ]
  },
  {
   "cell_type": "code",
   "execution_count": 17,
   "metadata": {},
   "outputs": [
    {
     "data": {
      "text/plain": [
       "array(['Colorful', 'White', 'Yellow', 'Red', 'Purple', 'Green', 'Blue',\n",
       "       'Pink', 'Black', 'Gray', 'Light blue', 'Orange', 'Brown', 'Beige'],\n",
       "      dtype=object)"
      ]
     },
     "execution_count": 17,
     "metadata": {},
     "output_type": "execute_result"
    }
   ],
   "source": [
    "df['Color 2'].unique()"
   ]
  },
  {
   "cell_type": "code",
   "execution_count": 18,
   "metadata": {},
   "outputs": [
    {
     "data": {
      "text/plain": [
       "array(['1x1'], dtype=object)"
      ]
     },
     "execution_count": 18,
     "metadata": {},
     "output_type": "execute_result"
    }
   ],
   "source": [
    "df['Size'].unique()"
   ]
  },
  {
   "cell_type": "code",
   "execution_count": 19,
   "metadata": {},
   "outputs": [
    {
     "data": {
      "text/plain": [
       "array(['Able Sisters', 'Dodo Airlines'], dtype=object)"
      ]
     },
     "execution_count": 19,
     "metadata": {},
     "output_type": "execute_result"
    }
   ],
   "source": [
    "df['Source'].unique()"
   ]
  },
  {
   "cell_type": "code",
   "execution_count": 20,
   "metadata": {},
   "outputs": [
    {
     "data": {
      "text/plain": [
       "array(['Available from Able Sisters shop only',\n",
       "       \"Available from either Mable's temporary shop or Able Sisters shop\",\n",
       "       'Received in mail from DAL after taking certain numbers of flights'],\n",
       "      dtype=object)"
      ]
     },
     "execution_count": 20,
     "metadata": {},
     "output_type": "execute_result"
    }
   ],
   "source": [
    "df['Source Notes'].unique()"
   ]
  },
  {
   "cell_type": "code",
   "execution_count": 21,
   "metadata": {},
   "outputs": [
    {
     "data": {
      "text/plain": [
       "array(['All Year', 'Summer', 'Winter'], dtype=object)"
      ]
     },
     "execution_count": 21,
     "metadata": {},
     "output_type": "execute_result"
    }
   ],
   "source": [
    "df['Seasonal Availability'].unique()"
   ]
  },
  {
   "cell_type": "code",
   "execution_count": 22,
   "metadata": {},
   "outputs": [
    {
     "data": {
      "text/plain": [
       "array(['No', 'Yes'], dtype=object)"
      ]
     },
     "execution_count": 22,
     "metadata": {},
     "output_type": "execute_result"
    }
   ],
   "source": [
    "df['Mannequin Piece'].unique()"
   ]
  },
  {
   "cell_type": "code",
   "execution_count": 23,
   "metadata": {},
   "outputs": [
    {
     "data": {
      "text/plain": [
       "array(['1.0.0'], dtype=object)"
      ]
     },
     "execution_count": 23,
     "metadata": {},
     "output_type": "execute_result"
    }
   ],
   "source": [
    "df['Version'].unique()"
   ]
  },
  {
   "cell_type": "code",
   "execution_count": 24,
   "metadata": {},
   "outputs": [
    {
     "data": {
      "text/plain": [
       "array(['Active', 'Cute', 'Simple', 'Cool', 'Gorgeous', 'Elegant'],\n",
       "      dtype=object)"
      ]
     },
     "execution_count": 24,
     "metadata": {},
     "output_type": "execute_result"
    }
   ],
   "source": [
    "df['Style'].unique()"
   ]
  },
  {
   "cell_type": "code",
   "execution_count": 25,
   "metadata": {},
   "outputs": [
    {
     "data": {
      "text/plain": [
       "array(['party', 'outdoorsy; comfy; sporty',\n",
       "       'fairy tale; party; theatrical', 'everyday; comfy; work',\n",
       "       'everyday; formal', 'comfy', 'outdoorsy',\n",
       "       'fairy tale; formal; party', 'party; theatrical',\n",
       "       'comfy; vacation', 'everyday; goth; comfy',\n",
       "       'comfy; vacation; work', 'fairy tale; goth', 'goth; comfy',\n",
       "       'party; vacation', 'goth; work', 'comfy; work',\n",
       "       'everyday; comfy; theatrical', 'outdoorsy; sporty; vacation',\n",
       "       'fairy tale; formal; theatrical',\n",
       "       'fairy tale; goth; party; theatrical; work',\n",
       "       'fairy tale; formal; work', 'everyday; work', 'sporty; work',\n",
       "       'goth', 'work', 'everyday; party; vacation',\n",
       "       'party; theatrical; vacation', 'everyday; formal; work',\n",
       "       'outdoorsy; sporty', 'fairy tale; theatrical',\n",
       "       'fairy tale; theatrical; work', 'fairy tale; formal'], dtype=object)"
      ]
     },
     "execution_count": 25,
     "metadata": {},
     "output_type": "execute_result"
    }
   ],
   "source": [
    "df['Label Themes'].unique()"
   ]
  },
  {
   "cell_type": "code",
   "execution_count": 26,
   "metadata": {},
   "outputs": [
    {
     "data": {
      "text/plain": [
       "array(['AccessoryEye', 'AccessoryMouth', 'AccessoryMouthInvisibleNose',\n",
       "       'AccessoryMouthEarJaw', 'AcceEyeMouth', 'AccessoryOneEye',\n",
       "       'AccessoryEyeMouthInvisibleNose'], dtype=object)"
      ]
     },
     "execution_count": 26,
     "metadata": {},
     "output_type": "execute_result"
    }
   ],
   "source": [
    "df['Type'].unique()"
   ]
  },
  {
   "cell_type": "code",
   "execution_count": 27,
   "metadata": {},
   "outputs": [
    {
     "data": {
      "text/plain": [
       "array(['Yes', 'No'], dtype=object)"
      ]
     },
     "execution_count": 27,
     "metadata": {},
     "output_type": "execute_result"
    }
   ],
   "source": [
    "df['Villager Equippable'].unique()"
   ]
  },
  {
   "cell_type": "code",
   "execution_count": 28,
   "metadata": {},
   "outputs": [
    {
     "data": {
      "text/plain": [
       "Name                      66\n",
       "Variation                 33\n",
       "DIY                        1\n",
       "Buy                       18\n",
       "Sell                      18\n",
       "Color 1                   14\n",
       "Color 2                   14\n",
       "Size                       1\n",
       "Source                     2\n",
       "Source Notes               3\n",
       "Seasonal Availability      3\n",
       "Mannequin Piece            2\n",
       "Version                    1\n",
       "Style                      6\n",
       "Label Themes              33\n",
       "Type                       7\n",
       "Villager Equippable        2\n",
       "Catalog                    2\n",
       "Filename                 206\n",
       "Internal ID              206\n",
       "Unique Entry ID          206\n",
       "dtype: int64"
      ]
     },
     "execution_count": 28,
     "metadata": {},
     "output_type": "execute_result"
    }
   ],
   "source": [
    "df.nunique(axis=0)"
   ]
  },
  {
   "cell_type": "code",
   "execution_count": 29,
   "metadata": {},
   "outputs": [
    {
     "data": {
      "text/plain": [
       "array(['For sale', 'Not for sale'], dtype=object)"
      ]
     },
     "execution_count": 29,
     "metadata": {},
     "output_type": "execute_result"
    }
   ],
   "source": [
    "df['Catalog'].unique() #df.Catalog.unique()"
   ]
  },
  {
   "cell_type": "code",
   "execution_count": 30,
   "metadata": {},
   "outputs": [],
   "source": [
    "df = df.drop(columns = 'Unique Entry ID',axis = 0)"
   ]
  },
  {
   "cell_type": "code",
   "execution_count": 31,
   "metadata": {},
   "outputs": [
    {
     "data": {
      "text/html": [
       "<div>\n",
       "<style scoped>\n",
       "    .dataframe tbody tr th:only-of-type {\n",
       "        vertical-align: middle;\n",
       "    }\n",
       "\n",
       "    .dataframe tbody tr th {\n",
       "        vertical-align: top;\n",
       "    }\n",
       "\n",
       "    .dataframe thead th {\n",
       "        text-align: right;\n",
       "    }\n",
       "</style>\n",
       "<table border=\"1\" class=\"dataframe\">\n",
       "  <thead>\n",
       "    <tr style=\"text-align: right;\">\n",
       "      <th></th>\n",
       "      <th>Name</th>\n",
       "      <th>Variation</th>\n",
       "      <th>DIY</th>\n",
       "      <th>Buy</th>\n",
       "      <th>Sell</th>\n",
       "      <th>Color 1</th>\n",
       "      <th>Color 2</th>\n",
       "      <th>Size</th>\n",
       "      <th>Source</th>\n",
       "      <th>Source Notes</th>\n",
       "      <th>Seasonal Availability</th>\n",
       "      <th>Mannequin Piece</th>\n",
       "      <th>Version</th>\n",
       "      <th>Style</th>\n",
       "      <th>Label Themes</th>\n",
       "      <th>Type</th>\n",
       "      <th>Villager Equippable</th>\n",
       "      <th>Catalog</th>\n",
       "      <th>Filename</th>\n",
       "      <th>Internal ID</th>\n",
       "    </tr>\n",
       "  </thead>\n",
       "  <tbody>\n",
       "    <tr>\n",
       "      <th>0</th>\n",
       "      <td>3D glasses</td>\n",
       "      <td>White</td>\n",
       "      <td>No</td>\n",
       "      <td>490</td>\n",
       "      <td>122</td>\n",
       "      <td>White</td>\n",
       "      <td>Colorful</td>\n",
       "      <td>1x1</td>\n",
       "      <td>Able Sisters</td>\n",
       "      <td>Available from Able Sisters shop only</td>\n",
       "      <td>All Year</td>\n",
       "      <td>No</td>\n",
       "      <td>1.0.0</td>\n",
       "      <td>Active</td>\n",
       "      <td>party</td>\n",
       "      <td>AccessoryEye</td>\n",
       "      <td>Yes</td>\n",
       "      <td>For sale</td>\n",
       "      <td>AccessoryGlassThreed0</td>\n",
       "      <td>4463</td>\n",
       "    </tr>\n",
       "    <tr>\n",
       "      <th>1</th>\n",
       "      <td>3D glasses</td>\n",
       "      <td>Black</td>\n",
       "      <td>No</td>\n",
       "      <td>490</td>\n",
       "      <td>122</td>\n",
       "      <td>Black</td>\n",
       "      <td>Colorful</td>\n",
       "      <td>1x1</td>\n",
       "      <td>Able Sisters</td>\n",
       "      <td>Available from Able Sisters shop only</td>\n",
       "      <td>All Year</td>\n",
       "      <td>No</td>\n",
       "      <td>1.0.0</td>\n",
       "      <td>Active</td>\n",
       "      <td>party</td>\n",
       "      <td>AccessoryEye</td>\n",
       "      <td>Yes</td>\n",
       "      <td>For sale</td>\n",
       "      <td>AccessoryGlassThreed1</td>\n",
       "      <td>11020</td>\n",
       "    </tr>\n",
       "    <tr>\n",
       "      <th>2</th>\n",
       "      <td>bandage</td>\n",
       "      <td>Beige</td>\n",
       "      <td>No</td>\n",
       "      <td>140</td>\n",
       "      <td>35</td>\n",
       "      <td>Beige</td>\n",
       "      <td>White</td>\n",
       "      <td>1x1</td>\n",
       "      <td>Able Sisters</td>\n",
       "      <td>Available from either Mable's temporary shop o...</td>\n",
       "      <td>All Year</td>\n",
       "      <td>Yes</td>\n",
       "      <td>1.0.0</td>\n",
       "      <td>Active</td>\n",
       "      <td>outdoorsy; comfy; sporty</td>\n",
       "      <td>AccessoryMouth</td>\n",
       "      <td>No</td>\n",
       "      <td>For sale</td>\n",
       "      <td>AccessoryMouthBandageSkin</td>\n",
       "      <td>4677</td>\n",
       "    </tr>\n",
       "    <tr>\n",
       "      <th>3</th>\n",
       "      <td>beak</td>\n",
       "      <td>Yellow</td>\n",
       "      <td>No</td>\n",
       "      <td>490</td>\n",
       "      <td>122</td>\n",
       "      <td>Yellow</td>\n",
       "      <td>Yellow</td>\n",
       "      <td>1x1</td>\n",
       "      <td>Able Sisters</td>\n",
       "      <td>Available from either Mable's temporary shop o...</td>\n",
       "      <td>All Year</td>\n",
       "      <td>Yes</td>\n",
       "      <td>1.0.0</td>\n",
       "      <td>Cute</td>\n",
       "      <td>fairy tale; party; theatrical</td>\n",
       "      <td>AccessoryMouthInvisibleNose</td>\n",
       "      <td>No</td>\n",
       "      <td>For sale</td>\n",
       "      <td>AccessoryMouthBeakYellow</td>\n",
       "      <td>3549</td>\n",
       "    </tr>\n",
       "    <tr>\n",
       "      <th>8</th>\n",
       "      <td>bottom-rimmed glasses</td>\n",
       "      <td>Red</td>\n",
       "      <td>No</td>\n",
       "      <td>1100</td>\n",
       "      <td>275</td>\n",
       "      <td>Red</td>\n",
       "      <td>Red</td>\n",
       "      <td>1x1</td>\n",
       "      <td>Able Sisters</td>\n",
       "      <td>Available from Able Sisters shop only</td>\n",
       "      <td>All Year</td>\n",
       "      <td>No</td>\n",
       "      <td>1.0.0</td>\n",
       "      <td>Simple</td>\n",
       "      <td>everyday; comfy; work</td>\n",
       "      <td>AccessoryEye</td>\n",
       "      <td>Yes</td>\n",
       "      <td>For sale</td>\n",
       "      <td>AccessoryGlassLoose0</td>\n",
       "      <td>4597</td>\n",
       "    </tr>\n",
       "  </tbody>\n",
       "</table>\n",
       "</div>"
      ],
      "text/plain": [
       "                    Name Variation DIY   Buy  Sell Color 1   Color 2 Size  \\\n",
       "0             3D glasses     White  No   490   122   White  Colorful  1x1   \n",
       "1             3D glasses     Black  No   490   122   Black  Colorful  1x1   \n",
       "2                bandage     Beige  No   140    35   Beige     White  1x1   \n",
       "3                   beak    Yellow  No   490   122  Yellow    Yellow  1x1   \n",
       "8  bottom-rimmed glasses       Red  No  1100   275     Red       Red  1x1   \n",
       "\n",
       "         Source                                       Source Notes  \\\n",
       "0  Able Sisters              Available from Able Sisters shop only   \n",
       "1  Able Sisters              Available from Able Sisters shop only   \n",
       "2  Able Sisters  Available from either Mable's temporary shop o...   \n",
       "3  Able Sisters  Available from either Mable's temporary shop o...   \n",
       "8  Able Sisters              Available from Able Sisters shop only   \n",
       "\n",
       "  Seasonal Availability Mannequin Piece Version   Style  \\\n",
       "0              All Year              No   1.0.0  Active   \n",
       "1              All Year              No   1.0.0  Active   \n",
       "2              All Year             Yes   1.0.0  Active   \n",
       "3              All Year             Yes   1.0.0    Cute   \n",
       "8              All Year              No   1.0.0  Simple   \n",
       "\n",
       "                    Label Themes                         Type  \\\n",
       "0                          party                 AccessoryEye   \n",
       "1                          party                 AccessoryEye   \n",
       "2       outdoorsy; comfy; sporty               AccessoryMouth   \n",
       "3  fairy tale; party; theatrical  AccessoryMouthInvisibleNose   \n",
       "8          everyday; comfy; work                 AccessoryEye   \n",
       "\n",
       "  Villager Equippable   Catalog                   Filename  Internal ID  \n",
       "0                 Yes  For sale      AccessoryGlassThreed0         4463  \n",
       "1                 Yes  For sale      AccessoryGlassThreed1        11020  \n",
       "2                  No  For sale  AccessoryMouthBandageSkin         4677  \n",
       "3                  No  For sale   AccessoryMouthBeakYellow         3549  \n",
       "8                 Yes  For sale       AccessoryGlassLoose0         4597  "
      ]
     },
     "execution_count": 31,
     "metadata": {},
     "output_type": "execute_result"
    }
   ],
   "source": [
    "df.head()"
   ]
  },
  {
   "cell_type": "markdown",
   "metadata": {},
   "source": [
    "## Analyzing the relationship between the variables\n",
    "https://towardsdatascience.com/an-extensive-guide-to-exploratory-data-analysis-ddd99a03199e\n",
    "https://dzchilds.github.io/eda-for-bio/exploring-categorical-variables.html\n"
   ]
  },
  {
   "cell_type": "code",
   "execution_count": 32,
   "metadata": {},
   "outputs": [],
   "source": [
    "# calculate correlation matrix\n",
    "#corr = df_cleaned.corr()# plot the heatmap\n",
    "#sns.heatmap(corr, xticklabels=corr.columns, yticklabels=corr.columns, annot=True, cmap=sns.diverging_palette(220, 20, as_cmap=True))"
   ]
  },
  {
   "cell_type": "code",
   "execution_count": 33,
   "metadata": {},
   "outputs": [
    {
     "data": {
      "text/plain": [
       "array(['490', '140', '1100', '1040', '560', '700', '1300', 'NFS', '770',\n",
       "       '980', '1120', '2000', '1760', '880', '910', '1560', '1320', '630'],\n",
       "      dtype=object)"
      ]
     },
     "execution_count": 33,
     "metadata": {},
     "output_type": "execute_result"
    }
   ],
   "source": [
    "df['Buy'].unique()"
   ]
  },
  {
   "cell_type": "code",
   "execution_count": 34,
   "metadata": {},
   "outputs": [],
   "source": [
    "df['Buy'] = df['Buy'].replace(['NFS'],'0')"
   ]
  },
  {
   "cell_type": "code",
   "execution_count": 35,
   "metadata": {},
   "outputs": [
    {
     "data": {
      "text/plain": [
       "array(['490', '140', '1100', '1040', '560', '700', '1300', '0', '770',\n",
       "       '980', '1120', '2000', '1760', '880', '910', '1560', '1320', '630'],\n",
       "      dtype=object)"
      ]
     },
     "execution_count": 35,
     "metadata": {},
     "output_type": "execute_result"
    }
   ],
   "source": [
    "df['Buy'].unique()"
   ]
  },
  {
   "cell_type": "code",
   "execution_count": 37,
   "metadata": {},
   "outputs": [],
   "source": [
    "df['Buy'] = df['Buy'].astype(int)"
   ]
  },
  {
   "cell_type": "code",
   "execution_count": 38,
   "metadata": {},
   "outputs": [
    {
     "data": {
      "text/plain": [
       "dtype('int64')"
      ]
     },
     "execution_count": 38,
     "metadata": {},
     "output_type": "execute_result"
    }
   ],
   "source": [
    "df['Buy'].dtype"
   ]
  },
  {
   "cell_type": "code",
   "execution_count": 39,
   "metadata": {},
   "outputs": [
    {
     "data": {
      "text/plain": [
       "Name                     object\n",
       "Variation                object\n",
       "DIY                      object\n",
       "Buy                       int64\n",
       "Sell                      int64\n",
       "Color 1                  object\n",
       "Color 2                  object\n",
       "Size                     object\n",
       "Source                   object\n",
       "Source Notes             object\n",
       "Seasonal Availability    object\n",
       "Mannequin Piece          object\n",
       "Version                  object\n",
       "Style                    object\n",
       "Label Themes             object\n",
       "Type                     object\n",
       "Villager Equippable      object\n",
       "Catalog                  object\n",
       "Filename                 object\n",
       "Internal ID               int64\n",
       "dtype: object"
      ]
     },
     "execution_count": 39,
     "metadata": {},
     "output_type": "execute_result"
    }
   ],
   "source": [
    "df.dtypes"
   ]
  },
  {
   "cell_type": "code",
   "execution_count": 40,
   "metadata": {},
   "outputs": [],
   "source": [
    "# Size, Version, DIY contains one value only"
   ]
  },
  {
   "cell_type": "code",
   "execution_count": 44,
   "metadata": {},
   "outputs": [],
   "source": [
    "import matplotlib.pyplot as plt\n",
    "import seaborn as sns"
   ]
  },
  {
   "cell_type": "code",
   "execution_count": 45,
   "metadata": {},
   "outputs": [
    {
     "data": {
      "text/plain": [
       "<BarContainer object of 2 artists>"
      ]
     },
     "execution_count": 45,
     "metadata": {},
     "output_type": "execute_result"
    },
    {
     "data": {
      "image/png": "[encoded data removed]",
      "text/plain": [
       "<Figure size 432x288 with 1 Axes>"
      ]
     },
     "metadata": {
      "needs_background": "light"
     },
     "output_type": "display_data"
    }
   ],
   "source": [
    "x_axis = ['Buy','Sell']\n",
    "a = df['Buy'].sum()\n",
    "b = df['Sell'].sum()\n",
    "y_axis = [a,b]\n",
    "plt.bar(x_axis,y_axis)"
   ]
  },
  {
   "cell_type": "code",
   "execution_count": 47,
   "metadata": {},
   "outputs": [
    {
     "data": {
      "text/plain": [
       "<matplotlib.axes._subplots.AxesSubplot at 0x1a2139d790>"
      ]
     },
     "execution_count": 47,
     "metadata": {},
     "output_type": "execute_result"
    },
    {
     "data": {
      "image/png": "[encoded data removed]",
      "text/plain": [
       "<Figure size 432x288 with 2 Axes>"
      ]
     },
     "metadata": {
      "needs_background": "light"
     },
     "output_type": "display_data"
    }
   ],
   "source": [
    "correlation = df.corr()\n",
    "sns.heatmap(correlation)"
   ]
  },
  {
   "cell_type": "code",
   "execution_count": 50,
   "metadata": {},
   "outputs": [
    {
     "data": {
      "text/html": [
       "<div>\n",
       "<style scoped>\n",
       "    .dataframe tbody tr th:only-of-type {\n",
       "        vertical-align: middle;\n",
       "    }\n",
       "\n",
       "    .dataframe tbody tr th {\n",
       "        vertical-align: top;\n",
       "    }\n",
       "\n",
       "    .dataframe thead th {\n",
       "        text-align: right;\n",
       "    }\n",
       "</style>\n",
       "<table border=\"1\" class=\"dataframe\">\n",
       "  <thead>\n",
       "    <tr style=\"text-align: right;\">\n",
       "      <th></th>\n",
       "      <th>Name</th>\n",
       "      <th>Variation</th>\n",
       "      <th>DIY</th>\n",
       "      <th>Buy</th>\n",
       "      <th>Sell</th>\n",
       "      <th>Color 1</th>\n",
       "      <th>Color 2</th>\n",
       "      <th>Size</th>\n",
       "      <th>Source</th>\n",
       "      <th>Source Notes</th>\n",
       "      <th>Seasonal Availability</th>\n",
       "      <th>Mannequin Piece</th>\n",
       "      <th>Version</th>\n",
       "      <th>Style</th>\n",
       "      <th>Label Themes</th>\n",
       "      <th>Type</th>\n",
       "      <th>Villager Equippable</th>\n",
       "      <th>Catalog</th>\n",
       "      <th>Filename</th>\n",
       "      <th>Internal ID</th>\n",
       "    </tr>\n",
       "  </thead>\n",
       "  <tbody>\n",
       "    <tr>\n",
       "      <th>0</th>\n",
       "      <td>3D glasses</td>\n",
       "      <td>White</td>\n",
       "      <td>No</td>\n",
       "      <td>490</td>\n",
       "      <td>122</td>\n",
       "      <td>White</td>\n",
       "      <td>Colorful</td>\n",
       "      <td>1x1</td>\n",
       "      <td>Able Sisters</td>\n",
       "      <td>Available from Able Sisters shop only</td>\n",
       "      <td>All Year</td>\n",
       "      <td>No</td>\n",
       "      <td>1.0.0</td>\n",
       "      <td>Active</td>\n",
       "      <td>party</td>\n",
       "      <td>AccessoryEye</td>\n",
       "      <td>Yes</td>\n",
       "      <td>For sale</td>\n",
       "      <td>AccessoryGlassThreed0</td>\n",
       "      <td>4463</td>\n",
       "    </tr>\n",
       "    <tr>\n",
       "      <th>1</th>\n",
       "      <td>3D glasses</td>\n",
       "      <td>Black</td>\n",
       "      <td>No</td>\n",
       "      <td>490</td>\n",
       "      <td>122</td>\n",
       "      <td>Black</td>\n",
       "      <td>Colorful</td>\n",
       "      <td>1x1</td>\n",
       "      <td>Able Sisters</td>\n",
       "      <td>Available from Able Sisters shop only</td>\n",
       "      <td>All Year</td>\n",
       "      <td>No</td>\n",
       "      <td>1.0.0</td>\n",
       "      <td>Active</td>\n",
       "      <td>party</td>\n",
       "      <td>AccessoryEye</td>\n",
       "      <td>Yes</td>\n",
       "      <td>For sale</td>\n",
       "      <td>AccessoryGlassThreed1</td>\n",
       "      <td>11020</td>\n",
       "    </tr>\n",
       "    <tr>\n",
       "      <th>2</th>\n",
       "      <td>bandage</td>\n",
       "      <td>Beige</td>\n",
       "      <td>No</td>\n",
       "      <td>140</td>\n",
       "      <td>35</td>\n",
       "      <td>Beige</td>\n",
       "      <td>White</td>\n",
       "      <td>1x1</td>\n",
       "      <td>Able Sisters</td>\n",
       "      <td>Available from either Mable's temporary shop o...</td>\n",
       "      <td>All Year</td>\n",
       "      <td>Yes</td>\n",
       "      <td>1.0.0</td>\n",
       "      <td>Active</td>\n",
       "      <td>outdoorsy; comfy; sporty</td>\n",
       "      <td>AccessoryMouth</td>\n",
       "      <td>No</td>\n",
       "      <td>For sale</td>\n",
       "      <td>AccessoryMouthBandageSkin</td>\n",
       "      <td>4677</td>\n",
       "    </tr>\n",
       "    <tr>\n",
       "      <th>3</th>\n",
       "      <td>beak</td>\n",
       "      <td>Yellow</td>\n",
       "      <td>No</td>\n",
       "      <td>490</td>\n",
       "      <td>122</td>\n",
       "      <td>Yellow</td>\n",
       "      <td>Yellow</td>\n",
       "      <td>1x1</td>\n",
       "      <td>Able Sisters</td>\n",
       "      <td>Available from either Mable's temporary shop o...</td>\n",
       "      <td>All Year</td>\n",
       "      <td>Yes</td>\n",
       "      <td>1.0.0</td>\n",
       "      <td>Cute</td>\n",
       "      <td>fairy tale; party; theatrical</td>\n",
       "      <td>AccessoryMouthInvisibleNose</td>\n",
       "      <td>No</td>\n",
       "      <td>For sale</td>\n",
       "      <td>AccessoryMouthBeakYellow</td>\n",
       "      <td>3549</td>\n",
       "    </tr>\n",
       "    <tr>\n",
       "      <th>8</th>\n",
       "      <td>bottom-rimmed glasses</td>\n",
       "      <td>Red</td>\n",
       "      <td>No</td>\n",
       "      <td>1100</td>\n",
       "      <td>275</td>\n",
       "      <td>Red</td>\n",
       "      <td>Red</td>\n",
       "      <td>1x1</td>\n",
       "      <td>Able Sisters</td>\n",
       "      <td>Available from Able Sisters shop only</td>\n",
       "      <td>All Year</td>\n",
       "      <td>No</td>\n",
       "      <td>1.0.0</td>\n",
       "      <td>Simple</td>\n",
       "      <td>everyday; comfy; work</td>\n",
       "      <td>AccessoryEye</td>\n",
       "      <td>Yes</td>\n",
       "      <td>For sale</td>\n",
       "      <td>AccessoryGlassLoose0</td>\n",
       "      <td>4597</td>\n",
       "    </tr>\n",
       "  </tbody>\n",
       "</table>\n",
       "</div>"
      ],
      "text/plain": [
       "                    Name Variation DIY   Buy  Sell Color 1   Color 2 Size  \\\n",
       "0             3D glasses     White  No   490   122   White  Colorful  1x1   \n",
       "1             3D glasses     Black  No   490   122   Black  Colorful  1x1   \n",
       "2                bandage     Beige  No   140    35   Beige     White  1x1   \n",
       "3                   beak    Yellow  No   490   122  Yellow    Yellow  1x1   \n",
       "8  bottom-rimmed glasses       Red  No  1100   275     Red       Red  1x1   \n",
       "\n",
       "         Source                                       Source Notes  \\\n",
       "0  Able Sisters              Available from Able Sisters shop only   \n",
       "1  Able Sisters              Available from Able Sisters shop only   \n",
       "2  Able Sisters  Available from either Mable's temporary shop o...   \n",
       "3  Able Sisters  Available from either Mable's temporary shop o...   \n",
       "8  Able Sisters              Available from Able Sisters shop only   \n",
       "\n",
       "  Seasonal Availability Mannequin Piece Version   Style  \\\n",
       "0              All Year              No   1.0.0  Active   \n",
       "1              All Year              No   1.0.0  Active   \n",
       "2              All Year             Yes   1.0.0  Active   \n",
       "3              All Year             Yes   1.0.0    Cute   \n",
       "8              All Year              No   1.0.0  Simple   \n",
       "\n",
       "                    Label Themes                         Type  \\\n",
       "0                          party                 AccessoryEye   \n",
       "1                          party                 AccessoryEye   \n",
       "2       outdoorsy; comfy; sporty               AccessoryMouth   \n",
       "3  fairy tale; party; theatrical  AccessoryMouthInvisibleNose   \n",
       "8          everyday; comfy; work                 AccessoryEye   \n",
       "\n",
       "  Villager Equippable   Catalog                   Filename  Internal ID  \n",
       "0                 Yes  For sale      AccessoryGlassThreed0         4463  \n",
       "1                 Yes  For sale      AccessoryGlassThreed1        11020  \n",
       "2                  No  For sale  AccessoryMouthBandageSkin         4677  \n",
       "3                  No  For sale   AccessoryMouthBeakYellow         3549  \n",
       "8                 Yes  For sale       AccessoryGlassLoose0         4597  "
      ]
     },
     "execution_count": 50,
     "metadata": {},
     "output_type": "execute_result"
    }
   ],
   "source": [
    "df.head()"
   ]
  },
  {
   "cell_type": "code",
   "execution_count": 51,
   "metadata": {},
   "outputs": [],
   "source": [
    "df = df.sort_values(by = 'Sell', ascending = False)"
   ]
  },
  {
   "cell_type": "code",
   "execution_count": 52,
   "metadata": {},
   "outputs": [
    {
     "data": {
      "text/html": [
       "<div>\n",
       "<style scoped>\n",
       "    .dataframe tbody tr th:only-of-type {\n",
       "        vertical-align: middle;\n",
       "    }\n",
       "\n",
       "    .dataframe tbody tr th {\n",
       "        vertical-align: top;\n",
       "    }\n",
       "\n",
       "    .dataframe thead th {\n",
       "        text-align: right;\n",
       "    }\n",
       "</style>\n",
       "<table border=\"1\" class=\"dataframe\">\n",
       "  <thead>\n",
       "    <tr style=\"text-align: right;\">\n",
       "      <th></th>\n",
       "      <th>Name</th>\n",
       "      <th>Variation</th>\n",
       "      <th>DIY</th>\n",
       "      <th>Buy</th>\n",
       "      <th>Sell</th>\n",
       "      <th>Color 1</th>\n",
       "      <th>Color 2</th>\n",
       "      <th>Size</th>\n",
       "      <th>Source</th>\n",
       "      <th>Source Notes</th>\n",
       "      <th>Seasonal Availability</th>\n",
       "      <th>Mannequin Piece</th>\n",
       "      <th>Version</th>\n",
       "      <th>Style</th>\n",
       "      <th>Label Themes</th>\n",
       "      <th>Type</th>\n",
       "      <th>Villager Equippable</th>\n",
       "      <th>Catalog</th>\n",
       "      <th>Filename</th>\n",
       "      <th>Internal ID</th>\n",
       "    </tr>\n",
       "  </thead>\n",
       "  <tbody>\n",
       "    <tr>\n",
       "      <th>45</th>\n",
       "      <td>DAL sunglasses</td>\n",
       "      <td>Yellow</td>\n",
       "      <td>No</td>\n",
       "      <td>0</td>\n",
       "      <td>1010</td>\n",
       "      <td>Yellow</td>\n",
       "      <td>Blue</td>\n",
       "      <td>1x1</td>\n",
       "      <td>Dodo Airlines</td>\n",
       "      <td>Received in mail from DAL after taking certain...</td>\n",
       "      <td>All Year</td>\n",
       "      <td>No</td>\n",
       "      <td>1.0.0</td>\n",
       "      <td>Gorgeous</td>\n",
       "      <td>comfy; vacation</td>\n",
       "      <td>AccessoryEye</td>\n",
       "      <td>Yes</td>\n",
       "      <td>Not for sale</td>\n",
       "      <td>AccessoryGlassDalglass0</td>\n",
       "      <td>12129</td>\n",
       "    </tr>\n",
       "    <tr>\n",
       "      <th>44</th>\n",
       "      <td>DAL eye mask</td>\n",
       "      <td>Blue</td>\n",
       "      <td>No</td>\n",
       "      <td>0</td>\n",
       "      <td>1010</td>\n",
       "      <td>Blue</td>\n",
       "      <td>Blue</td>\n",
       "      <td>1x1</td>\n",
       "      <td>Dodo Airlines</td>\n",
       "      <td>Received in mail from DAL after taking certain...</td>\n",
       "      <td>All Year</td>\n",
       "      <td>No</td>\n",
       "      <td>1.0.0</td>\n",
       "      <td>Simple</td>\n",
       "      <td>comfy; vacation</td>\n",
       "      <td>AccessoryEye</td>\n",
       "      <td>Yes</td>\n",
       "      <td>Not for sale</td>\n",
       "      <td>AccessoryGlassDalmask0</td>\n",
       "      <td>12128</td>\n",
       "    </tr>\n",
       "    <tr>\n",
       "      <th>92</th>\n",
       "      <td>HMD</td>\n",
       "      <td>White</td>\n",
       "      <td>No</td>\n",
       "      <td>2000</td>\n",
       "      <td>500</td>\n",
       "      <td>White</td>\n",
       "      <td>Black</td>\n",
       "      <td>1x1</td>\n",
       "      <td>Able Sisters</td>\n",
       "      <td>Available from Able Sisters shop only</td>\n",
       "      <td>All Year</td>\n",
       "      <td>No</td>\n",
       "      <td>1.0.0</td>\n",
       "      <td>Cool</td>\n",
       "      <td>comfy</td>\n",
       "      <td>AccessoryEye</td>\n",
       "      <td>Yes</td>\n",
       "      <td>For sale</td>\n",
       "      <td>AccessoryGlassHmdWhite</td>\n",
       "      <td>5182</td>\n",
       "    </tr>\n",
       "    <tr>\n",
       "      <th>93</th>\n",
       "      <td>jester's mask</td>\n",
       "      <td>Black</td>\n",
       "      <td>No</td>\n",
       "      <td>1760</td>\n",
       "      <td>440</td>\n",
       "      <td>Black</td>\n",
       "      <td>White</td>\n",
       "      <td>1x1</td>\n",
       "      <td>Able Sisters</td>\n",
       "      <td>Available from Able Sisters shop only</td>\n",
       "      <td>All Year</td>\n",
       "      <td>No</td>\n",
       "      <td>1.0.0</td>\n",
       "      <td>Cool</td>\n",
       "      <td>fairy tale; goth; party; theatrical; work</td>\n",
       "      <td>AccessoryEyeMouthInvisibleNose</td>\n",
       "      <td>No</td>\n",
       "      <td>For sale</td>\n",
       "      <td>AccessoryGlassmouthPierrot0</td>\n",
       "      <td>4678</td>\n",
       "    </tr>\n",
       "    <tr>\n",
       "      <th>94</th>\n",
       "      <td>jester's mask</td>\n",
       "      <td>Red</td>\n",
       "      <td>No</td>\n",
       "      <td>1760</td>\n",
       "      <td>440</td>\n",
       "      <td>Red</td>\n",
       "      <td>White</td>\n",
       "      <td>1x1</td>\n",
       "      <td>Able Sisters</td>\n",
       "      <td>Available from Able Sisters shop only</td>\n",
       "      <td>All Year</td>\n",
       "      <td>No</td>\n",
       "      <td>1.0.0</td>\n",
       "      <td>Cool</td>\n",
       "      <td>fairy tale; goth; party; theatrical; work</td>\n",
       "      <td>AccessoryEyeMouthInvisibleNose</td>\n",
       "      <td>No</td>\n",
       "      <td>For sale</td>\n",
       "      <td>AccessoryGlassmouthPierrot1</td>\n",
       "      <td>11166</td>\n",
       "    </tr>\n",
       "    <tr>\n",
       "      <th>...</th>\n",
       "      <td>...</td>\n",
       "      <td>...</td>\n",
       "      <td>...</td>\n",
       "      <td>...</td>\n",
       "      <td>...</td>\n",
       "      <td>...</td>\n",
       "      <td>...</td>\n",
       "      <td>...</td>\n",
       "      <td>...</td>\n",
       "      <td>...</td>\n",
       "      <td>...</td>\n",
       "      <td>...</td>\n",
       "      <td>...</td>\n",
       "      <td>...</td>\n",
       "      <td>...</td>\n",
       "      <td>...</td>\n",
       "      <td>...</td>\n",
       "      <td>...</td>\n",
       "      <td>...</td>\n",
       "      <td>...</td>\n",
       "    </tr>\n",
       "    <tr>\n",
       "      <th>19</th>\n",
       "      <td>bubblegum</td>\n",
       "      <td>Pink</td>\n",
       "      <td>No</td>\n",
       "      <td>140</td>\n",
       "      <td>35</td>\n",
       "      <td>Pink</td>\n",
       "      <td>Pink</td>\n",
       "      <td>1x1</td>\n",
       "      <td>Able Sisters</td>\n",
       "      <td>Available from either Mable's temporary shop o...</td>\n",
       "      <td>All Year</td>\n",
       "      <td>No</td>\n",
       "      <td>1.0.0</td>\n",
       "      <td>Simple</td>\n",
       "      <td>comfy</td>\n",
       "      <td>AccessoryMouth</td>\n",
       "      <td>No</td>\n",
       "      <td>For sale</td>\n",
       "      <td>AccessoryMouthBubblegum0</td>\n",
       "      <td>5738</td>\n",
       "    </tr>\n",
       "    <tr>\n",
       "      <th>20</th>\n",
       "      <td>bubblegum</td>\n",
       "      <td>Blue</td>\n",
       "      <td>No</td>\n",
       "      <td>140</td>\n",
       "      <td>35</td>\n",
       "      <td>Light blue</td>\n",
       "      <td>Light blue</td>\n",
       "      <td>1x1</td>\n",
       "      <td>Able Sisters</td>\n",
       "      <td>Available from either Mable's temporary shop o...</td>\n",
       "      <td>All Year</td>\n",
       "      <td>No</td>\n",
       "      <td>1.0.0</td>\n",
       "      <td>Simple</td>\n",
       "      <td>comfy</td>\n",
       "      <td>AccessoryMouth</td>\n",
       "      <td>No</td>\n",
       "      <td>For sale</td>\n",
       "      <td>AccessoryMouthBubblegum1</td>\n",
       "      <td>11027</td>\n",
       "    </tr>\n",
       "    <tr>\n",
       "      <th>21</th>\n",
       "      <td>bubblegum</td>\n",
       "      <td>Yellow</td>\n",
       "      <td>No</td>\n",
       "      <td>140</td>\n",
       "      <td>35</td>\n",
       "      <td>Yellow</td>\n",
       "      <td>Yellow</td>\n",
       "      <td>1x1</td>\n",
       "      <td>Able Sisters</td>\n",
       "      <td>Available from either Mable's temporary shop o...</td>\n",
       "      <td>All Year</td>\n",
       "      <td>Yes</td>\n",
       "      <td>1.0.0</td>\n",
       "      <td>Simple</td>\n",
       "      <td>comfy</td>\n",
       "      <td>AccessoryMouth</td>\n",
       "      <td>No</td>\n",
       "      <td>For sale</td>\n",
       "      <td>AccessoryMouthBubblegum2</td>\n",
       "      <td>11028</td>\n",
       "    </tr>\n",
       "    <tr>\n",
       "      <th>2</th>\n",
       "      <td>bandage</td>\n",
       "      <td>Beige</td>\n",
       "      <td>No</td>\n",
       "      <td>140</td>\n",
       "      <td>35</td>\n",
       "      <td>Beige</td>\n",
       "      <td>White</td>\n",
       "      <td>1x1</td>\n",
       "      <td>Able Sisters</td>\n",
       "      <td>Available from either Mable's temporary shop o...</td>\n",
       "      <td>All Year</td>\n",
       "      <td>Yes</td>\n",
       "      <td>1.0.0</td>\n",
       "      <td>Active</td>\n",
       "      <td>outdoorsy; comfy; sporty</td>\n",
       "      <td>AccessoryMouth</td>\n",
       "      <td>No</td>\n",
       "      <td>For sale</td>\n",
       "      <td>AccessoryMouthBandageSkin</td>\n",
       "      <td>4677</td>\n",
       "    </tr>\n",
       "    <tr>\n",
       "      <th>23</th>\n",
       "      <td>bubblegum</td>\n",
       "      <td>White</td>\n",
       "      <td>No</td>\n",
       "      <td>140</td>\n",
       "      <td>35</td>\n",
       "      <td>White</td>\n",
       "      <td>White</td>\n",
       "      <td>1x1</td>\n",
       "      <td>Able Sisters</td>\n",
       "      <td>Available from either Mable's temporary shop o...</td>\n",
       "      <td>All Year</td>\n",
       "      <td>No</td>\n",
       "      <td>1.0.0</td>\n",
       "      <td>Simple</td>\n",
       "      <td>comfy</td>\n",
       "      <td>AccessoryMouth</td>\n",
       "      <td>No</td>\n",
       "      <td>For sale</td>\n",
       "      <td>AccessoryMouthBubblegum4</td>\n",
       "      <td>11030</td>\n",
       "    </tr>\n",
       "  </tbody>\n",
       "</table>\n",
       "<p>206 rows × 20 columns</p>\n",
       "</div>"
      ],
      "text/plain": [
       "              Name Variation DIY   Buy  Sell     Color 1     Color 2 Size  \\\n",
       "45  DAL sunglasses    Yellow  No     0  1010      Yellow        Blue  1x1   \n",
       "44    DAL eye mask      Blue  No     0  1010        Blue        Blue  1x1   \n",
       "92             HMD     White  No  2000   500       White       Black  1x1   \n",
       "93   jester's mask     Black  No  1760   440       Black       White  1x1   \n",
       "94   jester's mask       Red  No  1760   440         Red       White  1x1   \n",
       "..             ...       ...  ..   ...   ...         ...         ...  ...   \n",
       "19       bubblegum      Pink  No   140    35        Pink        Pink  1x1   \n",
       "20       bubblegum      Blue  No   140    35  Light blue  Light blue  1x1   \n",
       "21       bubblegum    Yellow  No   140    35      Yellow      Yellow  1x1   \n",
       "2          bandage     Beige  No   140    35       Beige       White  1x1   \n",
       "23       bubblegum     White  No   140    35       White       White  1x1   \n",
       "\n",
       "           Source                                       Source Notes  \\\n",
       "45  Dodo Airlines  Received in mail from DAL after taking certain...   \n",
       "44  Dodo Airlines  Received in mail from DAL after taking certain...   \n",
       "92   Able Sisters              Available from Able Sisters shop only   \n",
       "93   Able Sisters              Available from Able Sisters shop only   \n",
       "94   Able Sisters              Available from Able Sisters shop only   \n",
       "..            ...                                                ...   \n",
       "19   Able Sisters  Available from either Mable's temporary shop o...   \n",
       "20   Able Sisters  Available from either Mable's temporary shop o...   \n",
       "21   Able Sisters  Available from either Mable's temporary shop o...   \n",
       "2    Able Sisters  Available from either Mable's temporary shop o...   \n",
       "23   Able Sisters  Available from either Mable's temporary shop o...   \n",
       "\n",
       "   Seasonal Availability Mannequin Piece Version     Style  \\\n",
       "45              All Year              No   1.0.0  Gorgeous   \n",
       "44              All Year              No   1.0.0    Simple   \n",
       "92              All Year              No   1.0.0      Cool   \n",
       "93              All Year              No   1.0.0      Cool   \n",
       "94              All Year              No   1.0.0      Cool   \n",
       "..                   ...             ...     ...       ...   \n",
       "19              All Year              No   1.0.0    Simple   \n",
       "20              All Year              No   1.0.0    Simple   \n",
       "21              All Year             Yes   1.0.0    Simple   \n",
       "2               All Year             Yes   1.0.0    Active   \n",
       "23              All Year              No   1.0.0    Simple   \n",
       "\n",
       "                                 Label Themes                            Type  \\\n",
       "45                            comfy; vacation                    AccessoryEye   \n",
       "44                            comfy; vacation                    AccessoryEye   \n",
       "92                                      comfy                    AccessoryEye   \n",
       "93  fairy tale; goth; party; theatrical; work  AccessoryEyeMouthInvisibleNose   \n",
       "94  fairy tale; goth; party; theatrical; work  AccessoryEyeMouthInvisibleNose   \n",
       "..                                        ...                             ...   \n",
       "19                                      comfy                  AccessoryMouth   \n",
       "20                                      comfy                  AccessoryMouth   \n",
       "21                                      comfy                  AccessoryMouth   \n",
       "2                    outdoorsy; comfy; sporty                  AccessoryMouth   \n",
       "23                                      comfy                  AccessoryMouth   \n",
       "\n",
       "   Villager Equippable       Catalog                     Filename  Internal ID  \n",
       "45                 Yes  Not for sale      AccessoryGlassDalglass0        12129  \n",
       "44                 Yes  Not for sale       AccessoryGlassDalmask0        12128  \n",
       "92                 Yes      For sale       AccessoryGlassHmdWhite         5182  \n",
       "93                  No      For sale  AccessoryGlassmouthPierrot0         4678  \n",
       "94                  No      For sale  AccessoryGlassmouthPierrot1        11166  \n",
       "..                 ...           ...                          ...          ...  \n",
       "19                  No      For sale     AccessoryMouthBubblegum0         5738  \n",
       "20                  No      For sale     AccessoryMouthBubblegum1        11027  \n",
       "21                  No      For sale     AccessoryMouthBubblegum2        11028  \n",
       "2                   No      For sale    AccessoryMouthBandageSkin         4677  \n",
       "23                  No      For sale     AccessoryMouthBubblegum4        11030  \n",
       "\n",
       "[206 rows x 20 columns]"
      ]
     },
     "execution_count": 52,
     "metadata": {},
     "output_type": "execute_result"
    }
   ],
   "source": [
    "df"
   ]
  },
  {
   "cell_type": "code",
   "execution_count": 55,
   "metadata": {},
   "outputs": [
    {
     "data": {
      "text/plain": [
       "Index(['Name', 'Variation', 'DIY', 'Buy', 'Sell', 'Color 1', 'Color 2', 'Size',\n",
       "       'Source', 'Source Notes', 'Seasonal Availability', 'Mannequin Piece',\n",
       "       'Version', 'Style', 'Label Themes', 'Type', 'Villager Equippable',\n",
       "       'Catalog', 'Filename', 'Internal ID'],\n",
       "      dtype='object')"
      ]
     },
     "execution_count": 55,
     "metadata": {},
     "output_type": "execute_result"
    }
   ],
   "source": [
    "df.columns"
   ]
  },
  {
   "cell_type": "code",
   "execution_count": 70,
   "metadata": {},
   "outputs": [
    {
     "data": {
      "text/plain": [
       "1010"
      ]
     },
     "execution_count": 70,
     "metadata": {},
     "output_type": "execute_result"
    }
   ],
   "source": [
    "max_sell = df['Sell'].max()\n",
    "max_sell"
   ]
  },
  {
   "cell_type": "code",
   "execution_count": null,
   "metadata": {},
   "outputs": [],
   "source": []
  }
 ],
 "metadata": {
  "kernelspec": {
   "display_name": "Python 3",
   "language": "python",
   "name": "python3"
  },
  "language_info": {
   "codemirror_mode": {
    "name": "ipython",
    "version": 3
   },
   "file_extension": ".py",
   "mimetype": "text/x-python",
   "name": "python",
   "nbconvert_exporter": "python",
   "pygments_lexer": "ipython3",
   "version": "3.7.6"
  }
 },
 "nbformat": 4,
 "nbformat_minor": 4
}
